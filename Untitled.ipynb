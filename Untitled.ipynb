{
 "cells": [
  {
   "cell_type": "code",
   "execution_count": 1,
   "metadata": {},
   "outputs": [],
   "source": [
    "#Prepare environment\n",
    "import re\n",
    "import numpy as np\n",
    "import tensorflow as tf\n",
    "import pandas as pd\n",
    "import keras\n",
    "from keras.models import Sequential\n",
    "from keras.layers import Dense\n",
    "from keras.layers import Dropout\n",
    "from keras.layers import GRU\n",
    "from keras.callbacks import ModelCheckpoint\n",
    "from keras.utils import np_utils"
   ]
  },
  {
   "cell_type": "code",
   "execution_count": 2,
   "metadata": {},
   "outputs": [],
   "source": [
    "from keras.models import load_model\n",
    "\n",
    "model = load_model('checkpoints/weights.05.hdf5')"
   ]
  },
  {
   "cell_type": "code",
   "execution_count": 4,
   "metadata": {},
   "outputs": [
    {
     "name": "stdout",
     "output_type": "stream",
     "text": [
      "The number of tweets and retweets: \n",
      "isRetweet\n",
      "f    45755\n",
      "t     9335\n",
      "dtype: int64\n"
     ]
    }
   ],
   "source": [
    "#Get the data file with the Tweets\n",
    "df_tt = pd.read_csv('inputdata/tweets_11-06-2020.csv')\n",
    "\n",
    "#Get the number of tweets sent by Trump himself\n",
    "print('The number of tweets and retweets: ')\n",
    "print(df_tt.groupby('isRetweet').size())\n",
    "\n",
    "# Output just the Tweets to a text file\n",
    "df_tt['text'].to_csv('inputdata/tweets.txt',  header=None, index=None, sep=' ', mode='a')\n",
    "\n",
    "# load ascii text and remove url's from the tweets\n",
    "filename = \"inputdata/tweets.txt\"\n",
    "raw_text = open(filename, 'r', encoding='utf-8').read()\n",
    "raw_text = re.sub(r'http\\S+', '', raw_text)\n",
    "\n",
    "# Create a file with the url's removed\n",
    "with open('clean_tweet2.txt', \"w\", encoding=\"utf-8\") as f:\n",
    "    f.write(raw_text)"
   ]
  },
  {
   "cell_type": "code",
   "execution_count": 7,
   "metadata": {},
   "outputs": [],
   "source": [
    "# tokenize the text\n",
    "tok = keras.preprocessing.text.Tokenizer(char_level=True,num_words=100,oov_token='<unk>')\n",
    "fit_text = tok.fit_on_texts([raw_text])\n",
    "\n",
    "max_id = len(tok.word_index)\n",
    "ds_size = tok.document_count"
   ]
  },
  {
   "cell_type": "code",
   "execution_count": 9,
   "metadata": {},
   "outputs": [
    {
     "name": "stdout",
     "output_type": "stream",
     "text": [
      "biden             o                       o                 o    e          i             e           a           e   ee  o  e t                           \n"
     ]
    }
   ],
   "source": [
    "# Create function to process text for prediction (seed text)\n",
    "def preprocess(texts):\n",
    "    x = np.array(tok.texts_to_sequences(texts)) - 1\n",
    "    return tf.one_hot(x, max_id)\n",
    "\n",
    "# Create a function to create next character using temperature\n",
    "def next_char(text, temperature=1):\n",
    "    x_new = preprocess([text])\n",
    "    y_proba = model.predict(x_new)[0, -1:, :]\n",
    "    rescaled_logits = tf.math.log(y_proba)/temperature\n",
    "    char_id = tf.random.categorical(rescaled_logits, num_samples=1) + 1\n",
    "    return tok.sequences_to_texts(char_id.numpy())[0]\n",
    "\n",
    "# Function to recursively generate text\n",
    "def complete_text(text, n_chars=150, temperature=.2):\n",
    "    for _ in range(n_chars):\n",
    "        text += next_char(text, temperature)\n",
    "    return text\n",
    "\n",
    "# Create a single letter prediction\n",
    "#seed_text='t'\n",
    "#x_seed = preprocess([seed_text])\n",
    "#y_pred = model.predict_classes(x_seed)\n",
    "#tok.sequences_to_texts(y_pred + 1)[0][-1]\n",
    "\n",
    "# Create a long sequence of text\n",
    "print(complete_text('biden', temperature=0.2))"
   ]
  },
  {
   "cell_type": "code",
   "execution_count": null,
   "metadata": {},
   "outputs": [],
   "source": []
  }
 ],
 "metadata": {
  "kernelspec": {
   "display_name": "Python 3",
   "language": "python",
   "name": "python3"
  },
  "language_info": {
   "codemirror_mode": {
    "name": "ipython",
    "version": 3
   },
   "file_extension": ".py",
   "mimetype": "text/x-python",
   "name": "python",
   "nbconvert_exporter": "python",
   "pygments_lexer": "ipython3",
   "version": "3.8.5"
  }
 },
 "nbformat": 4,
 "nbformat_minor": 4
}
