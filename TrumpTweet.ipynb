{
 "cells": [
  {
   "cell_type": "markdown",
   "metadata": {},
   "source": [
    "### TrumpTweet Notebook\n",
    "This notebook references the code to create a Trump tweet. This includes:\n",
    "- Processing the Trump Tweet archive to create a clean file of Trump's tweets\n",
    "- Defining and training GRU long short term memory recurrent neural network\n",
    "- Feeding data into the model in order to create a novel tweet"
   ]
  },
  {
   "cell_type": "markdown",
   "metadata": {},
   "source": [
    "#### Data Prep"
   ]
  },
  {
   "cell_type": "code",
   "execution_count": 1,
   "metadata": {},
   "outputs": [],
   "source": [
    "# Disable warnings\n",
    "import warnings\n",
    "warnings.filterwarnings('ignore')"
   ]
  },
  {
   "cell_type": "code",
   "execution_count": 1,
   "metadata": {},
   "outputs": [],
   "source": [
    "# Run the helpers scripts with the data and model helper objects\n",
    "%run scripts/helpers\n",
    "#from scripts import helpers"
   ]
  },
  {
   "cell_type": "code",
   "execution_count": 3,
   "metadata": {},
   "outputs": [
    {
     "data": {
      "text/plain": [
       "[]"
      ]
     },
     "execution_count": 3,
     "metadata": {},
     "output_type": "execute_result"
    }
   ],
   "source": [
    "# Verify GPU support\n",
    "tf.config.list_physical_devices('GPU')\n"
   ]
  },
  {
   "cell_type": "markdown",
   "metadata": {},
   "source": [
    "##### Create a datahelper and process raw data"
   ]
  },
  {
   "cell_type": "code",
   "execution_count": 2,
   "metadata": {},
   "outputs": [
    {
     "name": "stdout",
     "output_type": "stream",
     "text": [
      "Data processing complete.\n",
      "The number of Tweets sent by Trump during the period is 2362\n"
     ]
    }
   ],
   "source": [
    "# Create a datahelper object and designate the input file\n",
    "dh = DataHelper(file_name='tweets_11-06-2020.csv')\n",
    "\n",
    "# Prep the raw data to create the tweet file\n",
    "dh.prep_raw_data(start_date='2020-08-01', end_date='2020-11-19')\n",
    "\n",
    "# Print the number of tweets\n",
    "print('The number of Tweets sent by Trump during the period is {}'.format(dh.num_tweets))\n"
   ]
  },
  {
   "cell_type": "markdown",
   "metadata": {},
   "source": [
    "##### Tokenize the text and create the dataset for model training"
   ]
  },
  {
   "cell_type": "code",
   "execution_count": 5,
   "metadata": {},
   "outputs": [
    {
     "name": "stdout",
     "output_type": "stream",
     "text": [
      "Dataset and tokenizer creation complete.\n",
      "The number of unique characters is 75 and the dataset size is 1 document(s). The number of windows in the dataset for processing is 4,926,622.\n"
     ]
    }
   ],
   "source": [
    "# Tokenize the text and create the dataset\n",
    "dataset, tokenizer = dh.create_tokenizer('inputdata/clean_tweet.txt')\n",
    "print('The number of unique characters is {0:,} and the dataset size is {1:,} document(s).' \\\n",
    "      ' The number of windows in the dataset for processing is {2:,}.'.format(dh.num_unique_chars,dh.dataset_size,dh.num_data_windows))\n"
   ]
  },
  {
   "cell_type": "markdown",
   "metadata": {},
   "source": [
    "##### Create the Model and Train It\n",
    "The model is a stateless RNN made up of GRU cells"
   ]
  },
  {
   "cell_type": "code",
   "execution_count": 6,
   "metadata": {
    "collapsed": true,
    "jupyter": {
     "outputs_hidden": true
    }
   },
   "outputs": [
    {
     "name": "stdout",
     "output_type": "stream",
     "text": [
      "Epoch 1/20\n",
      "136851/136851 [==============================] - 10397s 76ms/step - loss: 1.3428\n",
      "Epoch 2/20\n",
      "136851/136851 [==============================] - 10362s 76ms/step - loss: 1.1128\n",
      "Epoch 3/20\n",
      "136851/136851 [==============================] - 10386s 76ms/step - loss: 1.0804\n",
      "Epoch 4/20\n",
      "136851/136851 [==============================] - 10365s 76ms/step - loss: 1.0646\n",
      "Epoch 5/20\n",
      "136851/136851 [==============================] - 10365s 76ms/step - loss: 1.0524\n",
      "Epoch 6/20\n",
      "136851/136851 [==============================] - 10364s 76ms/step - loss: 1.0425\n",
      "Epoch 7/20\n",
      "136851/136851 [==============================] - 10359s 76ms/step - loss: 1.0354\n",
      "Epoch 8/20\n",
      "136851/136851 [==============================] - 10370s 76ms/step - loss: 1.0297\n",
      "Epoch 9/20\n",
      "136851/136851 [==============================] - 10370s 76ms/step - loss: 1.0240\n",
      "Epoch 10/20\n",
      "136851/136851 [==============================] - 10381s 76ms/step - loss: nan\n",
      "Epoch 11/20\n",
      "136851/136851 [==============================] - 10363s 76ms/step - loss: nan\n",
      "Epoch 12/20\n",
      "136851/136851 [==============================] - 10352s 76ms/step - loss: nan\n",
      "Epoch 13/20\n",
      "136851/136851 [==============================] - 10347s 76ms/step - loss: nan\n",
      "Epoch 14/20\n",
      "136851/136851 [==============================] - 10362s 76ms/step - loss: nan\n",
      "Epoch 15/20\n",
      "136851/136851 [==============================] - 10358s 76ms/step - loss: nan\n",
      "Epoch 16/20\n",
      "136851/136851 [==============================] - 10383s 76ms/step - loss: nan\n",
      "Epoch 17/20\n",
      "136851/136851 [==============================] - 10367s 76ms/step - loss: nan\n",
      "Epoch 18/20\n",
      "136851/136851 [==============================] - 10366s 76ms/step - loss: nan\n",
      "Epoch 19/20\n",
      "136851/136851 [==============================] - 10339s 76ms/step - loss: nan\n",
      "Epoch 20/20\n",
      "136851/136851 [==============================] - 10363s 76ms/step - loss: nan\n"
     ]
    }
   ],
   "source": [
    "# Create the modelhelper object\n",
    "mh = ModelHelper(epochs=20)\n",
    "\n",
    "# Create the model\n",
    "model = mh.create_model(tokenizer)\n",
    "\n",
    "# Compile the model\n",
    "model.compile(loss='sparse_categorical_crossentropy',optimizer='adam')\n",
    "\n",
    "# Save a checkpoint after every epoch\n",
    "EPOCHS = 20\n",
    "checkpoint_filepath = 'checkpoints/weights.{epoch:02d}.hdf5'\n",
    "model_checkpoint = tf.keras.callbacks.ModelCheckpoint(\n",
    "    filepath=checkpoint_filepath,\n",
    "    save_weights_only=False,\n",
    "    save_freq='epoch',\n",
    "    monitor='val_loss',\n",
    "    mode='min',\n",
    "    save_best_only=False)\n",
    "\n",
    "# Fit the model\n",
    "history = model.fit(dataset,epochs=EPOCHS,callbacks=[model_checkpoint])\n"
   ]
  },
  {
   "cell_type": "markdown",
   "metadata": {},
   "source": [
    "##### Start Training Model from Saved Checkpoint\n",
    "Training the model takes quite some time. A checkpoint is saved every epoch so the code below will allow you to resume training from a checkpoint"
   ]
  },
  {
   "cell_type": "code",
   "execution_count": null,
   "metadata": {},
   "outputs": [],
   "source": [
    "#restart training from saved checkpoint\n",
    "new_model = load_model('checkpoints/weights.20.hdf5')\n",
    "\n",
    "# Save a checkpoint after every epoch\n",
    "EPOCHS = 1\n",
    "checkpoint_filepath = 'checkpoints/weights.{epoch:02d}.hdf5'\n",
    "model_checkpoint = tf.keras.callbacks.ModelCheckpoint(\n",
    "    filepath=checkpoint_filepath,\n",
    "    save_weights_only=False,\n",
    "    save_freq='epoch',\n",
    "    monitor='val_loss',\n",
    "    mode='min',\n",
    "    save_best_only=False)\n",
    "\n",
    "#Fit the model\n",
    "history = new_model.fit(dataset,epochs=EPOCHS,callbacks=[model_checkpoint])\n"
   ]
  },
  {
   "cell_type": "code",
   "execution_count": null,
   "metadata": {},
   "outputs": [],
   "source": [
    "# Save model\n",
    "model.save('model.h5')"
   ]
  },
  {
   "cell_type": "markdown",
   "metadata": {},
   "source": [
    "#### Load a saved model and generate a Tweet"
   ]
  },
  {
   "cell_type": "code",
   "execution_count": 2,
   "metadata": {},
   "outputs": [
    {
     "name": "stdout",
     "output_type": "stream",
     "text": [
      "Data processing complete.\n",
      "The number of Tweets sent by Trump during the period is 2362\n"
     ]
    }
   ],
   "source": [
    "# Create a datahelper object and designate the input file\n",
    "dh = DataHelper(file_name='tweets_11-06-2020.csv')\n",
    "\n",
    "# Prep the raw data to create the tweet file\n",
    "dh.prep_raw_data(start_date='2020-08-01', end_date='2020-11-19')\n",
    "\n",
    "# Print the number of tweets\n",
    "print('The number of Tweets sent by Trump during the period is {}'.format(dh.num_tweets))"
   ]
  },
  {
   "cell_type": "code",
   "execution_count": 19,
   "metadata": {},
   "outputs": [
    {
     "name": "stdout",
     "output_type": "stream",
     "text": [
      "Dataset and tokenizer creation complete.\n",
      "The number of unique characters is 75 and the dataset size is 1 document(s). The number of windows in the dataset for processing is 273,569.\n"
     ]
    }
   ],
   "source": [
    "# re-create the tokenizer\n",
    "# Tokenize the text and create the dataset\n",
    "dataset, tok = dh.create_tokenizer('inputdata/clean_tweet.txt')\n",
    "print('The number of unique characters is {0:,} and the dataset size is {1:,} document(s).' \\\n",
    "      ' The number of windows in the dataset for processing is {2:,}.'.format(dh.num_unique_chars,dh.dataset_size,dh.num_data_windows))\n",
    "\n",
    "# restore saved model for inferencing\n",
    "mh = ModelHelper(epochs=1, tokenizer=tok)\n",
    "new_model = mh.restore_model('weights.10.hdf5')"
   ]
  },
  {
   "cell_type": "markdown",
   "metadata": {},
   "source": [
    "##### Generate some tweets"
   ]
  },
  {
   "cell_type": "code",
   "execution_count": 20,
   "metadata": {},
   "outputs": [
    {
     "name": "stdout",
     "output_type": "stream",
     "text": [
      "harris\n"
     ]
    }
   ],
   "source": [
    "# Create a long sequence of text\n",
    "print(mh.create_tweet(text='harris', model=new_model, n_chars=140, temperature=0.2))"
   ]
  },
  {
   "cell_type": "code",
   "execution_count": 21,
   "metadata": {},
   "outputs": [
    {
     "name": "stdout",
     "output_type": "stream",
     "text": [
      "WARNING:tensorflow:5 out of the last 12 calls to <function Model.make_predict_function.<locals>.predict_function at 0x0000018A4BF99EE0> triggered tf.function retracing. Tracing is expensive and the excessive number of tracings could be due to (1) creating @tf.function repeatedly in a loop, (2) passing tensors with different shapes, (3) passing Python objects instead of tensors. For (1), please define your @tf.function outside of the loop. For (2), @tf.function has experimental_relax_shapes=True option that relaxes argument shapes that can avoid unnecessary retracing. For (3), please refer to https://www.tensorflow.org/tutorials/customization/performance#python_or_tensor_args and https://www.tensorflow.org/api_docs/python/tf/function for  more details.\n",
      "0\n"
     ]
    }
   ],
   "source": [
    "print(len(mh.get_next_char(text='tr', model=new_model)))"
   ]
  },
  {
   "cell_type": "code",
   "execution_count": 22,
   "metadata": {},
   "outputs": [],
   "source": [
    "x = mh.preprocess_pred('tr',tok)"
   ]
  },
  {
   "cell_type": "code",
   "execution_count": 23,
   "metadata": {},
   "outputs": [
    {
     "name": "stdout",
     "output_type": "stream",
     "text": [
      "tf.Tensor(\n",
      "[[[0. 0. 0. 1. 0. 0. 0. 0. 0. 0. 0. 0. 0. 0. 0. 0. 0. 0. 0. 0. 0. 0. 0.\n",
      "   0. 0. 0. 0. 0. 0. 0. 0. 0. 0. 0. 0. 0. 0. 0. 0. 0. 0. 0. 0. 0. 0. 0.\n",
      "   0. 0. 0. 0. 0. 0. 0. 0. 0. 0. 0. 0. 0. 0. 0. 0. 0. 0. 0. 0. 0. 0. 0.\n",
      "   0. 0. 0. 0. 0. 0.]]\n",
      "\n",
      " [[0. 0. 0. 0. 0. 0. 0. 1. 0. 0. 0. 0. 0. 0. 0. 0. 0. 0. 0. 0. 0. 0. 0.\n",
      "   0. 0. 0. 0. 0. 0. 0. 0. 0. 0. 0. 0. 0. 0. 0. 0. 0. 0. 0. 0. 0. 0. 0.\n",
      "   0. 0. 0. 0. 0. 0. 0. 0. 0. 0. 0. 0. 0. 0. 0. 0. 0. 0. 0. 0. 0. 0. 0.\n",
      "   0. 0. 0. 0. 0. 0.]]], shape=(2, 1, 75), dtype=float32)\n"
     ]
    }
   ],
   "source": [
    "print(x)"
   ]
  },
  {
   "cell_type": "code",
   "execution_count": 24,
   "metadata": {},
   "outputs": [
    {
     "name": "stdout",
     "output_type": "stream",
     "text": [
      "WARNING:tensorflow:6 out of the last 13 calls to <function Model.make_predict_function.<locals>.predict_function at 0x0000018A4BF99EE0> triggered tf.function retracing. Tracing is expensive and the excessive number of tracings could be due to (1) creating @tf.function repeatedly in a loop, (2) passing tensors with different shapes, (3) passing Python objects instead of tensors. For (1), please define your @tf.function outside of the loop. For (2), @tf.function has experimental_relax_shapes=True option that relaxes argument shapes that can avoid unnecessary retracing. For (3), please refer to https://www.tensorflow.org/tutorials/customization/performance#python_or_tensor_args and https://www.tensorflow.org/api_docs/python/tf/function for  more details.\n",
      "[[nan nan nan nan nan nan nan nan nan nan nan nan nan nan nan nan nan nan\n",
      "  nan nan nan nan nan nan nan nan nan nan nan nan nan nan nan nan nan nan\n",
      "  nan nan nan nan nan nan nan nan nan nan nan nan nan nan nan nan nan nan\n",
      "  nan nan nan nan nan nan nan nan nan nan nan nan nan nan nan nan nan nan\n",
      "  nan nan nan]]\n"
     ]
    }
   ],
   "source": [
    "y_proba = new_model.predict(x)[0, -1:, :]\n",
    "print(y_proba)"
   ]
  },
  {
   "cell_type": "code",
   "execution_count": 16,
   "metadata": {},
   "outputs": [
    {
     "name": "stdout",
     "output_type": "stream",
     "text": [
      "tf.Tensor(\n",
      "[[0. 0. 0. 1. 0. 0. 0. 0. 0. 0. 0. 0. 0. 0. 0. 0. 0. 0. 0. 0. 0. 0. 0. 0.\n",
      "  0. 0. 0. 0. 0. 0. 0. 0. 0. 0. 0. 0. 0. 0. 0. 0. 0. 0. 0. 0. 0. 0. 0. 0.\n",
      "  0. 0. 0. 0. 0. 0. 0. 0. 0. 0. 0. 0. 0. 0. 0. 0. 0. 0. 0. 0. 0. 0. 0. 0.\n",
      "  0. 0. 0.]], shape=(1, 75), dtype=float32)\n"
     ]
    }
   ],
   "source": [
    "print(x[0,-1:,:])"
   ]
  },
  {
   "cell_type": "code",
   "execution_count": null,
   "metadata": {},
   "outputs": [],
   "source": []
  }
 ],
 "metadata": {
  "kernelspec": {
   "display_name": "Python 3",
   "language": "python",
   "name": "python3"
  },
  "language_info": {
   "codemirror_mode": {
    "name": "ipython",
    "version": 3
   },
   "file_extension": ".py",
   "mimetype": "text/x-python",
   "name": "python",
   "nbconvert_exporter": "python",
   "pygments_lexer": "ipython3",
   "version": "3.8.5"
  }
 },
 "nbformat": 4,
 "nbformat_minor": 4
}
