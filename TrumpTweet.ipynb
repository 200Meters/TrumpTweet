{
 "cells": [
  {
   "cell_type": "markdown",
   "metadata": {},
   "source": [
    "### TrumpTweet Notebook\n",
    "This notebook references the code to create a Trump tweet. This includes:\n",
    "- Processing the Trump Tweet archive to create a clean file of Trump's tweets\n",
    "- Defining and training GRU long short term memory recurrent neural network\n",
    "- Feeding data into the model in order to create a novel tweet"
   ]
  },
  {
   "cell_type": "markdown",
   "metadata": {},
   "source": [
    "#### Data Prep"
   ]
  },
  {
   "cell_type": "code",
   "execution_count": 59,
   "metadata": {},
   "outputs": [],
   "source": [
    "# Disable warnings\n",
    "import warnings\n",
    "warnings.filterwarnings('ignore')"
   ]
  },
  {
   "cell_type": "code",
   "execution_count": 118,
   "metadata": {},
   "outputs": [],
   "source": [
    "# Run the helpers scripts with the data and model helper objects\n",
    "%run scripts/helpers\n",
    "#from scripts import helpers"
   ]
  },
  {
   "cell_type": "code",
   "execution_count": 3,
   "metadata": {},
   "outputs": [
    {
     "data": {
      "text/plain": [
       "[]"
      ]
     },
     "execution_count": 3,
     "metadata": {},
     "output_type": "execute_result"
    }
   ],
   "source": [
    "# Verify GPU support\n",
    "tf.config.list_physical_devices('GPU')\n"
   ]
  },
  {
   "cell_type": "markdown",
   "metadata": {},
   "source": [
    "##### Create a datahelper and process raw data"
   ]
  },
  {
   "cell_type": "code",
   "execution_count": 65,
   "metadata": {},
   "outputs": [
    {
     "name": "stdout",
     "output_type": "stream",
     "text": [
      "Data processing complete.\n",
      "The number of Tweets sent by Trump during the period is 3888\n"
     ]
    }
   ],
   "source": [
    "# Create a datahelper object and designate the input file\n",
    "dh = DataHelper(file_name='tweets_12-29-2020.csv')\n",
    "\n",
    "# Prep the raw data to create the tweet file\n",
    "dh.prep_raw_data(start_date='2020-06-01', end_date='2020-12-29')\n",
    "\n",
    "# Print the number of tweets\n",
    "print('The number of Tweets sent by Trump during the period is {}'.format(dh.num_tweets))\n"
   ]
  },
  {
   "cell_type": "markdown",
   "metadata": {},
   "source": [
    "##### Tokenize the text and create the dataset for model training"
   ]
  },
  {
   "cell_type": "code",
   "execution_count": 43,
   "metadata": {},
   "outputs": [
    {
     "name": "stdout",
     "output_type": "stream",
     "text": [
      "Dataset and tokenizer creation complete.\n",
      "The number of unique characters is 101 and the dataset size is 1 document(s). The number of windows in the dataset for processing is 481,083.\n"
     ]
    }
   ],
   "source": [
    "# Tokenize the text and create the dataset\n",
    "dataset, tokenizer = dh.create_tokenizer('inputdata/clean_tweet.txt')\n",
    "print('The number of unique characters is {0:,} and the dataset size is {1:,} document(s).' \\\n",
    "      ' The number of windows in the dataset for processing is {2:,}.'.format(dh.num_unique_chars,dh.dataset_size,dh.num_data_windows))\n"
   ]
  },
  {
   "cell_type": "markdown",
   "metadata": {},
   "source": [
    "##### Create the Model and Train It\n",
    "The model is a stateless RNN made up of GRU cells"
   ]
  },
  {
   "cell_type": "code",
   "execution_count": 6,
   "metadata": {
    "collapsed": true,
    "jupyter": {
     "outputs_hidden": true
    }
   },
   "outputs": [
    {
     "name": "stdout",
     "output_type": "stream",
     "text": [
      "Epoch 1/20\n",
      "136851/136851 [==============================] - 10397s 76ms/step - loss: 1.3428\n",
      "Epoch 2/20\n",
      "136851/136851 [==============================] - 10362s 76ms/step - loss: 1.1128\n",
      "Epoch 3/20\n",
      "136851/136851 [==============================] - 10386s 76ms/step - loss: 1.0804\n",
      "Epoch 4/20\n",
      "136851/136851 [==============================] - 10365s 76ms/step - loss: 1.0646\n",
      "Epoch 5/20\n",
      "136851/136851 [==============================] - 10365s 76ms/step - loss: 1.0524\n",
      "Epoch 6/20\n",
      "136851/136851 [==============================] - 10364s 76ms/step - loss: 1.0425\n",
      "Epoch 7/20\n",
      "136851/136851 [==============================] - 10359s 76ms/step - loss: 1.0354\n",
      "Epoch 8/20\n",
      "136851/136851 [==============================] - 10370s 76ms/step - loss: 1.0297\n",
      "Epoch 9/20\n",
      "136851/136851 [==============================] - 10370s 76ms/step - loss: 1.0240\n",
      "Epoch 10/20\n",
      "136851/136851 [==============================] - 10381s 76ms/step - loss: nan\n",
      "Epoch 11/20\n",
      "136851/136851 [==============================] - 10363s 76ms/step - loss: nan\n",
      "Epoch 12/20\n",
      "136851/136851 [==============================] - 10352s 76ms/step - loss: nan\n",
      "Epoch 13/20\n",
      "136851/136851 [==============================] - 10347s 76ms/step - loss: nan\n",
      "Epoch 14/20\n",
      "136851/136851 [==============================] - 10362s 76ms/step - loss: nan\n",
      "Epoch 15/20\n",
      "136851/136851 [==============================] - 10358s 76ms/step - loss: nan\n",
      "Epoch 16/20\n",
      "136851/136851 [==============================] - 10383s 76ms/step - loss: nan\n",
      "Epoch 17/20\n",
      "136851/136851 [==============================] - 10367s 76ms/step - loss: nan\n",
      "Epoch 18/20\n",
      "136851/136851 [==============================] - 10366s 76ms/step - loss: nan\n",
      "Epoch 19/20\n",
      "136851/136851 [==============================] - 10339s 76ms/step - loss: nan\n",
      "Epoch 20/20\n",
      "136851/136851 [==============================] - 10363s 76ms/step - loss: nan\n"
     ]
    }
   ],
   "source": [
    "# Create the modelhelper object\n",
    "mh = ModelHelper(epochs=20)\n",
    "\n",
    "# Create the model\n",
    "model = mh.create_model(tokenizer)\n",
    "\n",
    "# Compile the model\n",
    "model.compile(loss='sparse_categorical_crossentropy',optimizer='adam')\n",
    "\n",
    "# Save a checkpoint after every epoch\n",
    "EPOCHS = 20\n",
    "checkpoint_filepath = 'checkpoints/weights.{epoch:02d}.hdf5'\n",
    "model_checkpoint = tf.keras.callbacks.ModelCheckpoint(\n",
    "    filepath=checkpoint_filepath,\n",
    "    save_weights_only=False,\n",
    "    save_freq='epoch',\n",
    "    monitor='val_loss',\n",
    "    mode='min',\n",
    "    save_best_only=False)\n",
    "\n",
    "# Fit the model\n",
    "history = model.fit(dataset,epochs=EPOCHS,callbacks=[model_checkpoint])\n"
   ]
  },
  {
   "cell_type": "markdown",
   "metadata": {},
   "source": [
    "##### Start Training Model from Saved Checkpoint\n",
    "Training the model takes quite some time. A checkpoint is saved every epoch so the code below will allow you to resume training from a checkpoint"
   ]
  },
  {
   "cell_type": "code",
   "execution_count": null,
   "metadata": {},
   "outputs": [],
   "source": [
    "#restart training from saved checkpoint\n",
    "new_model = load_model('checkpoints/weights.09.hdf5')\n",
    "\n",
    "# Save a checkpoint after every epoch\n",
    "EPOCHS = 1\n",
    "checkpoint_filepath = 'checkpoints/weights.{epoch:02d}.hdf5'\n",
    "model_checkpoint = tf.keras.callbacks.ModelCheckpoint(\n",
    "    filepath=checkpoint_filepath,\n",
    "    save_weights_only=False,\n",
    "    save_freq='epoch',\n",
    "    monitor='val_loss',\n",
    "    mode='min',\n",
    "    save_best_only=False)\n",
    "\n",
    "#Fit the model\n",
    "history = new_model.fit(dataset,epochs=EPOCHS,callbacks=[model_checkpoint])\n"
   ]
  },
  {
   "cell_type": "code",
   "execution_count": null,
   "metadata": {},
   "outputs": [],
   "source": [
    "# Save model\n",
    "model.save('model.h5')"
   ]
  },
  {
   "cell_type": "markdown",
   "metadata": {},
   "source": [
    "#### Load a saved model and generate a Tweet"
   ]
  },
  {
   "cell_type": "code",
   "execution_count": 120,
   "metadata": {},
   "outputs": [
    {
     "name": "stdout",
     "output_type": "stream",
     "text": [
      "Data processing complete.\n",
      "The number of Tweets sent by Trump during the period is 3888\n"
     ]
    }
   ],
   "source": [
    "# Create a datahelper object and designate the input file\n",
    "dh = DataHelper(file_name='tweets_12-29-2020.csv')\n",
    "\n",
    "# Prep the raw data to create the tweet file\n",
    "dh.prep_raw_data(start_date='2020-06-01', end_date='2020-12-29')\n",
    "\n",
    "# Print the number of tweets\n",
    "print('The number of Tweets sent by Trump during the period is {}'.format(dh.num_tweets))"
   ]
  },
  {
   "cell_type": "code",
   "execution_count": 121,
   "metadata": {},
   "outputs": [
    {
     "name": "stdout",
     "output_type": "stream",
     "text": [
      "Dataset and tokenizer creation complete.\n",
      "The number of unique characters is 101 and the dataset size is 1 document(s). The number of windows in the dataset for processing is 481,083.\n"
     ]
    }
   ],
   "source": [
    "# re-create the tokenizer\n",
    "# Tokenize the text and create the dataset\n",
    "dataset, tok = dh.create_tokenizer('inputdata/clean_tweet.txt')\n",
    "print('The number of unique characters is {0:,} and the dataset size is {1:,} document(s).' \\\n",
    "      ' The number of windows in the dataset for processing is {2:,}.'.format(dh.num_unique_chars,dh.dataset_size,dh.num_data_windows))\n",
    "\n",
    "# restore saved model for inferencing\n",
    "mh = ModelHelper(epochs=1, tokenizer=tok)\n",
    "new_model = mh.restore_model('weights.50.hdf5')"
   ]
  },
  {
   "cell_type": "markdown",
   "metadata": {},
   "source": [
    "##### Generate some tweets"
   ]
  },
  {
   "cell_type": "code",
   "execution_count": 94,
   "metadata": {},
   "outputs": [
    {
     "name": "stdout",
     "output_type": "stream",
     "text": [
      "Mo Brooks: House Members Joined Trump, Meadows in Electoral Vote Challenge Call (in poll) thing to comport many people $2000, rather than the measly $600 that is now in the bill. also, stop the billions of dollars in “p\n"
     ]
    }
   ],
   "source": [
    "# Create a long sequence of text\n",
    "print(mh.create_tweet(text='Mo Brooks: House Members Joined Trump, Meadows in Electoral Vote Challenge Call', model=new_model, n_chars=140, temperature=0.02))"
   ]
  },
  {
   "cell_type": "markdown",
   "metadata": {},
   "source": [
    "#### Generate Tweets Based on Current News Headlines"
   ]
  },
  {
   "cell_type": "code",
   "execution_count": 124,
   "metadata": {},
   "outputs": [
    {
     "name": "stdout",
     "output_type": "stream",
     "text": [
      "['Ben Sasse Slams Republican Effort to Challenge Election', 'Why Coronavirus Vaccine Distribution is Taking Longer Than Expected', 'Photos From Fashion’s Uncertain Year']\n"
     ]
    }
   ],
   "source": [
    "# Get some headlines\n",
    "th = TweetHelper()\n",
    "headlines = th.get_headlines(news_source='nytimes.com', num_headlines=3)\n",
    "print(headlines)\n"
   ]
  },
  {
   "cell_type": "code",
   "execution_count": 128,
   "metadata": {},
   "outputs": [
    {
     "name": "stdout",
     "output_type": "stream",
     "text": [
      "Headline: Ben Sasse Slams Republican Effort to Challenge Election\n",
      "Trump Tweet: . now they (almost all) sit back and watch me fight against a crooked and vicious foe, the radical left democrats. i will never forget!\"\n",
      "\"me\n",
      "-------------------------\n",
      "Headline: Why Coronavirus Vaccine Distribution is Taking Longer Than Expected\n",
      "Trump Tweet: . this was the most corrupt election in the history of our country, and it must be closely examined!\"\n",
      "\n",
      "\n",
      "\n",
      "\n",
      "\"rush is the greatest! \n",
      "\n",
      "\"more tha\n",
      "-------------------------\n",
      "Headline: Photos From Fashion’s Uncertain Year\n",
      "Trump Tweet: s in the approval of numerous great new vaccines, it is still a big, old, slow turtle. get the dam vaccines out now, dr. hahn @stevefda. sto\n",
      "-------------------------\n"
     ]
    }
   ],
   "source": [
    "# Create some Tweets\n",
    "for headline in headlines:\n",
    "    tweet = mh.create_tweet(text=headline, model=new_model, n_chars=140, temperature=0.02)\n",
    "    tweet = tweet[len(headline):]\n",
    "    print(\"Headline: \" + headline)\n",
    "    print(\"Trump Tweet: \" + tweet)\n",
    "    print(\"-\"*25)\n"
   ]
  },
  {
   "cell_type": "code",
   "execution_count": 126,
   "metadata": {},
   "outputs": [
    {
     "name": "stdout",
     "output_type": "stream",
     "text": [
      "hon is \n"
     ]
    }
   ],
   "source": []
  },
  {
   "cell_type": "code",
   "execution_count": null,
   "metadata": {},
   "outputs": [],
   "source": []
  }
 ],
 "metadata": {
  "kernelspec": {
   "display_name": "Python 3",
   "language": "python",
   "name": "python3"
  },
  "language_info": {
   "codemirror_mode": {
    "name": "ipython",
    "version": 3
   },
   "file_extension": ".py",
   "mimetype": "text/x-python",
   "name": "python",
   "nbconvert_exporter": "python",
   "pygments_lexer": "ipython3",
   "version": "3.8.5"
  }
 },
 "nbformat": 4,
 "nbformat_minor": 4
}
